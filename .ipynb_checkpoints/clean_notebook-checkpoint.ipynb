{
 "cells": [
  {
   "cell_type": "code",
   "execution_count": 44,
   "metadata": {},
   "outputs": [],
   "source": [
    "# Install the libraries (if using binder)\n",
    "# !pip install numpy\n",
    "# !pip install pandas\n",
    "# !pip install matplotlib\n",
    "# !pip install seaborn\n",
    "# !pip install pylab"
   ]
  },
  {
   "cell_type": "code",
   "execution_count": 45,
   "metadata": {},
   "outputs": [],
   "source": [
    "import numpy as np\n",
    "import pandas as pd\n",
    "import matplotlib.pyplot as plt\n",
    "import seaborn as sns\n",
    "import pylab as plot"
   ]
  },
  {
   "cell_type": "markdown",
   "metadata": {},
   "source": [
    "### Reading the csv file and get it into a dataframe format"
   ]
  },
  {
   "cell_type": "code",
   "execution_count": 46,
   "metadata": {},
   "outputs": [],
   "source": [
    "df = pd.read_csv(\"pollution_us_2000_2016.csv\")"
   ]
  },
  {
   "cell_type": "code",
   "execution_count": 47,
   "metadata": {},
   "outputs": [
    {
     "name": "stdout",
     "output_type": "stream",
     "text": [
      "The dataframe has 1746661 rows and 29 columns\n"
     ]
    }
   ],
   "source": [
    "print(f'The dataframe has {len(df)} rows and {df.shape[1]} columns')"
   ]
  },
  {
   "cell_type": "markdown",
   "metadata": {},
   "source": [
    "Based on the above numbers, one concludes that the dataframe corresponds to very large dataset <em>(Big Data)</em>. Therefore, it is not advisable to view the entire dataframe as that will be a super memory expensive task. One needs to perform the analytics in a smarter way so as to the get the desired results while making sure not to put too much load on the memory."
   ]
  },
  {
   "cell_type": "code",
   "execution_count": 82,
   "metadata": {},
   "outputs": [],
   "source": [
    "states = df['State'].unique()\n",
    "num_states = len(states)"
   ]
  },
  {
   "cell_type": "code",
   "execution_count": 83,
   "metadata": {},
   "outputs": [
    {
     "name": "stdout",
     "output_type": "stream",
     "text": [
      "There are 47 states in the dataset.\n"
     ]
    }
   ],
   "source": [
    "print(f'There are {num_states} states in the dataset.')"
   ]
  },
  {
   "cell_type": "code",
   "execution_count": 57,
   "metadata": {},
   "outputs": [
    {
     "name": "stdout",
     "output_type": "stream",
     "text": [
      "The columns in the dataframe are given by \n",
      "Index(['Unnamed: 0', 'State Code', 'County Code', 'Site Num', 'Address',\n",
      "       'State', 'County', 'City', 'Date Local', 'NO2 Units', 'NO2 Mean',\n",
      "       'NO2 1st Max Value', 'NO2 1st Max Hour', 'NO2 AQI', 'O3 Units',\n",
      "       'O3 Mean', 'O3 1st Max Value', 'O3 1st Max Hour', 'O3 AQI', 'SO2 Units',\n",
      "       'SO2 Mean', 'SO2 1st Max Value', 'SO2 1st Max Hour', 'SO2 AQI',\n",
      "       'CO Units', 'CO Mean', 'CO 1st Max Value', 'CO 1st Max Hour', 'CO AQI'],\n",
      "      dtype='object')\n"
     ]
    }
   ],
   "source": [
    "print(f'The columns in the dataframe are given by \\n{df.columns}')"
   ]
  },
  {
   "cell_type": "markdown",
   "metadata": {},
   "source": [
    "One would now like to get rid of the columns that are not going to be useful for our analytics."
   ]
  },
  {
   "cell_type": "code",
   "execution_count": 58,
   "metadata": {},
   "outputs": [],
   "source": [
    "# columns to be dropped\n",
    "drop_cols = ['Unnamed: 0', 'State Code', 'County Code', 'Site Num', 'Address', 'City', 'NO2 1st Max Value', 'NO2 1st Max Hour', 'NO2 AQI', 'O3 1st Max Value', 'O3 1st Max Hour', 'O3 AQI', 'SO2 1st Max Value', 'SO2 1st Max Hour', 'SO2 AQI', 'CO 1st Max Value', 'CO 1st Max Hour', 'CO AQI']"
   ]
  },
  {
   "cell_type": "code",
   "execution_count": 59,
   "metadata": {},
   "outputs": [],
   "source": [
    "df.drop(drop_cols, axis=1, inplace=True)"
   ]
  },
  {
   "cell_type": "code",
   "execution_count": 60,
   "metadata": {},
   "outputs": [
    {
     "name": "stdout",
     "output_type": "stream",
     "text": [
      "The dataframe now contains 1746661 rows and 11 columns\n"
     ]
    }
   ],
   "source": [
    "print(f'The dataframe now contains {len(df)} rows and {df.shape[1]} columns')"
   ]
  },
  {
   "cell_type": "markdown",
   "metadata": {},
   "source": [
    "\n",
    "To get some idea about the entries in the dataframe, instad of looking at the entire dataframe, one peeks at only few rows."
   ]
  },
  {
   "cell_type": "code",
   "execution_count": 61,
   "metadata": {},
   "outputs": [
    {
     "data": {
      "text/html": [
       "<div>\n",
       "<style scoped>\n",
       "    .dataframe tbody tr th:only-of-type {\n",
       "        vertical-align: middle;\n",
       "    }\n",
       "\n",
       "    .dataframe tbody tr th {\n",
       "        vertical-align: top;\n",
       "    }\n",
       "\n",
       "    .dataframe thead th {\n",
       "        text-align: right;\n",
       "    }\n",
       "</style>\n",
       "<table border=\"1\" class=\"dataframe\">\n",
       "  <thead>\n",
       "    <tr style=\"text-align: right;\">\n",
       "      <th></th>\n",
       "      <th>State</th>\n",
       "      <th>County</th>\n",
       "      <th>Date Local</th>\n",
       "      <th>NO2 Units</th>\n",
       "      <th>NO2 Mean</th>\n",
       "      <th>O3 Units</th>\n",
       "      <th>O3 Mean</th>\n",
       "      <th>SO2 Units</th>\n",
       "      <th>SO2 Mean</th>\n",
       "      <th>CO Units</th>\n",
       "      <th>CO Mean</th>\n",
       "    </tr>\n",
       "  </thead>\n",
       "  <tbody>\n",
       "    <tr>\n",
       "      <th>0</th>\n",
       "      <td>Arizona</td>\n",
       "      <td>Maricopa</td>\n",
       "      <td>2000-01-01</td>\n",
       "      <td>Parts per billion</td>\n",
       "      <td>19.041667</td>\n",
       "      <td>Parts per million</td>\n",
       "      <td>0.022500</td>\n",
       "      <td>Parts per billion</td>\n",
       "      <td>3.000000</td>\n",
       "      <td>Parts per million</td>\n",
       "      <td>1.145833</td>\n",
       "    </tr>\n",
       "    <tr>\n",
       "      <th>1</th>\n",
       "      <td>Arizona</td>\n",
       "      <td>Maricopa</td>\n",
       "      <td>2000-01-01</td>\n",
       "      <td>Parts per billion</td>\n",
       "      <td>19.041667</td>\n",
       "      <td>Parts per million</td>\n",
       "      <td>0.022500</td>\n",
       "      <td>Parts per billion</td>\n",
       "      <td>3.000000</td>\n",
       "      <td>Parts per million</td>\n",
       "      <td>0.878947</td>\n",
       "    </tr>\n",
       "    <tr>\n",
       "      <th>2</th>\n",
       "      <td>Arizona</td>\n",
       "      <td>Maricopa</td>\n",
       "      <td>2000-01-01</td>\n",
       "      <td>Parts per billion</td>\n",
       "      <td>19.041667</td>\n",
       "      <td>Parts per million</td>\n",
       "      <td>0.022500</td>\n",
       "      <td>Parts per billion</td>\n",
       "      <td>2.975000</td>\n",
       "      <td>Parts per million</td>\n",
       "      <td>1.145833</td>\n",
       "    </tr>\n",
       "    <tr>\n",
       "      <th>3</th>\n",
       "      <td>Arizona</td>\n",
       "      <td>Maricopa</td>\n",
       "      <td>2000-01-01</td>\n",
       "      <td>Parts per billion</td>\n",
       "      <td>19.041667</td>\n",
       "      <td>Parts per million</td>\n",
       "      <td>0.022500</td>\n",
       "      <td>Parts per billion</td>\n",
       "      <td>2.975000</td>\n",
       "      <td>Parts per million</td>\n",
       "      <td>0.878947</td>\n",
       "    </tr>\n",
       "    <tr>\n",
       "      <th>4</th>\n",
       "      <td>Arizona</td>\n",
       "      <td>Maricopa</td>\n",
       "      <td>2000-01-02</td>\n",
       "      <td>Parts per billion</td>\n",
       "      <td>22.958333</td>\n",
       "      <td>Parts per million</td>\n",
       "      <td>0.013375</td>\n",
       "      <td>Parts per billion</td>\n",
       "      <td>1.958333</td>\n",
       "      <td>Parts per million</td>\n",
       "      <td>0.850000</td>\n",
       "    </tr>\n",
       "  </tbody>\n",
       "</table>\n",
       "</div>"
      ],
      "text/plain": [
       "     State    County  Date Local          NO2 Units   NO2 Mean  \\\n",
       "0  Arizona  Maricopa  2000-01-01  Parts per billion  19.041667   \n",
       "1  Arizona  Maricopa  2000-01-01  Parts per billion  19.041667   \n",
       "2  Arizona  Maricopa  2000-01-01  Parts per billion  19.041667   \n",
       "3  Arizona  Maricopa  2000-01-01  Parts per billion  19.041667   \n",
       "4  Arizona  Maricopa  2000-01-02  Parts per billion  22.958333   \n",
       "\n",
       "            O3 Units   O3 Mean          SO2 Units  SO2 Mean  \\\n",
       "0  Parts per million  0.022500  Parts per billion  3.000000   \n",
       "1  Parts per million  0.022500  Parts per billion  3.000000   \n",
       "2  Parts per million  0.022500  Parts per billion  2.975000   \n",
       "3  Parts per million  0.022500  Parts per billion  2.975000   \n",
       "4  Parts per million  0.013375  Parts per billion  1.958333   \n",
       "\n",
       "            CO Units   CO Mean  \n",
       "0  Parts per million  1.145833  \n",
       "1  Parts per million  0.878947  \n",
       "2  Parts per million  1.145833  \n",
       "3  Parts per million  0.878947  \n",
       "4  Parts per million  0.850000  "
      ]
     },
     "execution_count": 61,
     "metadata": {},
     "output_type": "execute_result"
    }
   ],
   "source": [
    "df.head()"
   ]
  },
  {
   "cell_type": "markdown",
   "metadata": {},
   "source": [
    "### Conversion of Units to achieve uniformity"
   ]
  },
  {
   "cell_type": "markdown",
   "metadata": {},
   "source": [
    "By peeking at the above tiny dataframe, one sees that the units are not uniform for all the gases. Before converting all the units, one must make sure if all the entries in particular units column are the same, i.e., for a gas <em>x</em>, one would like to make sure if it is always measured in the same units.} "
   ]
  },
  {
   "cell_type": "code",
   "execution_count": 62,
   "metadata": {},
   "outputs": [],
   "source": [
    "def same_units(df, col):\n",
    "    if len(df[col].unique()) == 1:\n",
    "        return True\n",
    "    return False\n",
    "\n",
    "def get_units(df, col):\n",
    "    return df[col].unique()"
   ]
  },
  {
   "cell_type": "code",
   "execution_count": 63,
   "metadata": {},
   "outputs": [
    {
     "data": {
      "text/plain": [
       "True"
      ]
     },
     "execution_count": 63,
     "metadata": {},
     "output_type": "execute_result"
    }
   ],
   "source": [
    "same_units(df, 'NO2 Units')"
   ]
  },
  {
   "cell_type": "code",
   "execution_count": 64,
   "metadata": {},
   "outputs": [
    {
     "data": {
      "text/plain": [
       "array(['Parts per billion'], dtype=object)"
      ]
     },
     "execution_count": 64,
     "metadata": {},
     "output_type": "execute_result"
    }
   ],
   "source": [
    "get_units(df, 'NO2 Units')"
   ]
  },
  {
   "cell_type": "code",
   "execution_count": 65,
   "metadata": {},
   "outputs": [
    {
     "data": {
      "text/plain": [
       "True"
      ]
     },
     "execution_count": 65,
     "metadata": {},
     "output_type": "execute_result"
    }
   ],
   "source": [
    "same_units(df, 'SO2 Units')"
   ]
  },
  {
   "cell_type": "code",
   "execution_count": 66,
   "metadata": {},
   "outputs": [
    {
     "data": {
      "text/plain": [
       "array(['Parts per billion'], dtype=object)"
      ]
     },
     "execution_count": 66,
     "metadata": {},
     "output_type": "execute_result"
    }
   ],
   "source": [
    "get_units(df, 'SO2 Units')"
   ]
  },
  {
   "cell_type": "code",
   "execution_count": 67,
   "metadata": {},
   "outputs": [
    {
     "data": {
      "text/plain": [
       "True"
      ]
     },
     "execution_count": 67,
     "metadata": {},
     "output_type": "execute_result"
    }
   ],
   "source": [
    "same_units(df, 'O3 Units')"
   ]
  },
  {
   "cell_type": "code",
   "execution_count": 68,
   "metadata": {},
   "outputs": [
    {
     "data": {
      "text/plain": [
       "array(['Parts per million'], dtype=object)"
      ]
     },
     "execution_count": 68,
     "metadata": {},
     "output_type": "execute_result"
    }
   ],
   "source": [
    "get_units(df, 'O3 Units')"
   ]
  },
  {
   "cell_type": "code",
   "execution_count": 69,
   "metadata": {},
   "outputs": [
    {
     "data": {
      "text/plain": [
       "True"
      ]
     },
     "execution_count": 69,
     "metadata": {},
     "output_type": "execute_result"
    }
   ],
   "source": [
    "same_units(df, 'CO Units')"
   ]
  },
  {
   "cell_type": "code",
   "execution_count": 70,
   "metadata": {},
   "outputs": [
    {
     "data": {
      "text/plain": [
       "array(['Parts per million'], dtype=object)"
      ]
     },
     "execution_count": 70,
     "metadata": {},
     "output_type": "execute_result"
    }
   ],
   "source": [
    "get_units(df, 'CO Units')"
   ]
  },
  {
   "cell_type": "markdown",
   "metadata": {},
   "source": [
    "\n",
    "Note that, $NO_2$ and $SO_2$ are **always** measured in parts per billion (ppb), while $O_3$ and $CO$ are **always** measured in parts per million (ppm).\n",
    "\n",
    "A standard unit in the field of science is parts per million (ppm), hence one would like to convert $NO_2$ and $SO_2$ into parts per million (ppm)."
   ]
  },
  {
   "cell_type": "code",
   "execution_count": 71,
   "metadata": {},
   "outputs": [],
   "source": [
    "df['NO2 Mean'] = df['NO2 Mean']/1000\n",
    "df['SO2 Mean'] = df['SO2 Mean']/1000"
   ]
  },
  {
   "cell_type": "markdown",
   "metadata": {},
   "source": [
    "\n",
    "The columns describing the units are now irrelevant, hence, one would like to discard all of these columns to get even more finer dataframe.\n"
   ]
  },
  {
   "cell_type": "code",
   "execution_count": 72,
   "metadata": {},
   "outputs": [],
   "source": [
    "unit_cols = ['NO2 Units', 'SO2 Units', 'O3 Units', 'CO Units']\n",
    "df.drop(unit_cols, axis=1, inplace=True)"
   ]
  },
  {
   "cell_type": "markdown",
   "metadata": {},
   "source": [
    "Before, moving ahead, a good practice is to check if there are any NaN, i.e., missing values in the dataframe. "
   ]
  },
  {
   "cell_type": "code",
   "execution_count": 73,
   "metadata": {},
   "outputs": [
    {
     "data": {
      "text/plain": [
       "State         False\n",
       "County        False\n",
       "Date Local    False\n",
       "NO2 Mean      False\n",
       "O3 Mean       False\n",
       "SO2 Mean      False\n",
       "CO Mean       False\n",
       "dtype: bool"
      ]
     },
     "execution_count": 73,
     "metadata": {},
     "output_type": "execute_result"
    }
   ],
   "source": [
    "df.isna().any()"
   ]
  },
  {
   "cell_type": "markdown",
   "metadata": {},
   "source": [
    "Therefore, none of the above columns contain any missing value. Great!!"
   ]
  },
  {
   "cell_type": "markdown",
   "metadata": {},
   "source": [
    "### Rename the 'Date Local' column and make it the index of the dataframe.\n",
    "\n",
    "To see the trends with time, it is a good practice to have the date column as the index of the dataframe."
   ]
  },
  {
   "cell_type": "code",
   "execution_count": 74,
   "metadata": {},
   "outputs": [],
   "source": [
    "df.rename(columns={'Date Local':'Date'}, inplace=True)"
   ]
  },
  {
   "cell_type": "code",
   "execution_count": 75,
   "metadata": {},
   "outputs": [
    {
     "data": {
      "text/plain": [
       "dtype('O')"
      ]
     },
     "execution_count": 75,
     "metadata": {},
     "output_type": "execute_result"
    }
   ],
   "source": [
    "# first check the type of the Date column\n",
    "df['Date'].dtypes"
   ]
  },
  {
   "cell_type": "markdown",
   "metadata": {},
   "source": [
    "One would like to convert this into a 'DateTime Object' since that makes it easier to parse dates and do analysis on it."
   ]
  },
  {
   "cell_type": "code",
   "execution_count": 76,
   "metadata": {},
   "outputs": [],
   "source": [
    "df['Date'] = pd.to_datetime(df['Date'])"
   ]
  },
  {
   "cell_type": "code",
   "execution_count": 77,
   "metadata": {},
   "outputs": [],
   "source": [
    "# make 'Date' as the index of the dataframe\n",
    "df.set_index('Date', inplace=True)"
   ]
  },
  {
   "cell_type": "code",
   "execution_count": 78,
   "metadata": {},
   "outputs": [
    {
     "data": {
      "text/html": [
       "<div>\n",
       "<style scoped>\n",
       "    .dataframe tbody tr th:only-of-type {\n",
       "        vertical-align: middle;\n",
       "    }\n",
       "\n",
       "    .dataframe tbody tr th {\n",
       "        vertical-align: top;\n",
       "    }\n",
       "\n",
       "    .dataframe thead th {\n",
       "        text-align: right;\n",
       "    }\n",
       "</style>\n",
       "<table border=\"1\" class=\"dataframe\">\n",
       "  <thead>\n",
       "    <tr style=\"text-align: right;\">\n",
       "      <th></th>\n",
       "      <th>State</th>\n",
       "      <th>County</th>\n",
       "      <th>NO2 Mean</th>\n",
       "      <th>O3 Mean</th>\n",
       "      <th>SO2 Mean</th>\n",
       "      <th>CO Mean</th>\n",
       "    </tr>\n",
       "    <tr>\n",
       "      <th>Date</th>\n",
       "      <th></th>\n",
       "      <th></th>\n",
       "      <th></th>\n",
       "      <th></th>\n",
       "      <th></th>\n",
       "      <th></th>\n",
       "    </tr>\n",
       "  </thead>\n",
       "  <tbody>\n",
       "    <tr>\n",
       "      <th>2016-03-30</th>\n",
       "      <td>Wyoming</td>\n",
       "      <td>Laramie</td>\n",
       "      <td>0.001083</td>\n",
       "      <td>0.043917</td>\n",
       "      <td>0.000000</td>\n",
       "      <td>0.091667</td>\n",
       "    </tr>\n",
       "    <tr>\n",
       "      <th>2016-03-31</th>\n",
       "      <td>Wyoming</td>\n",
       "      <td>Laramie</td>\n",
       "      <td>0.000939</td>\n",
       "      <td>0.045263</td>\n",
       "      <td>-0.000023</td>\n",
       "      <td>0.067714</td>\n",
       "    </tr>\n",
       "    <tr>\n",
       "      <th>2016-03-31</th>\n",
       "      <td>Wyoming</td>\n",
       "      <td>Laramie</td>\n",
       "      <td>0.000939</td>\n",
       "      <td>0.045263</td>\n",
       "      <td>-0.000023</td>\n",
       "      <td>0.100000</td>\n",
       "    </tr>\n",
       "    <tr>\n",
       "      <th>2016-03-31</th>\n",
       "      <td>Wyoming</td>\n",
       "      <td>Laramie</td>\n",
       "      <td>0.000939</td>\n",
       "      <td>0.045263</td>\n",
       "      <td>0.000000</td>\n",
       "      <td>0.067714</td>\n",
       "    </tr>\n",
       "    <tr>\n",
       "      <th>2016-03-31</th>\n",
       "      <td>Wyoming</td>\n",
       "      <td>Laramie</td>\n",
       "      <td>0.000939</td>\n",
       "      <td>0.045263</td>\n",
       "      <td>0.000000</td>\n",
       "      <td>0.100000</td>\n",
       "    </tr>\n",
       "  </tbody>\n",
       "</table>\n",
       "</div>"
      ],
      "text/plain": [
       "              State   County  NO2 Mean   O3 Mean  SO2 Mean   CO Mean\n",
       "Date                                                                \n",
       "2016-03-30  Wyoming  Laramie  0.001083  0.043917  0.000000  0.091667\n",
       "2016-03-31  Wyoming  Laramie  0.000939  0.045263 -0.000023  0.067714\n",
       "2016-03-31  Wyoming  Laramie  0.000939  0.045263 -0.000023  0.100000\n",
       "2016-03-31  Wyoming  Laramie  0.000939  0.045263  0.000000  0.067714\n",
       "2016-03-31  Wyoming  Laramie  0.000939  0.045263  0.000000  0.100000"
      ]
     },
     "execution_count": 78,
     "metadata": {},
     "output_type": "execute_result"
    }
   ],
   "source": [
    "# let us take a peek at the dataframe\n",
    "df.tail()"
   ]
  },
  {
   "cell_type": "markdown",
   "metadata": {},
   "source": [
    "### Insert Total Mean Column\n",
    "\n",
    "In order to quantify $NO_2$, $O_3$, $SO_2$ and $CO$ as one single entity for each state, one would like to get a **Total Mean** column, that allows us to do exactly that. The entries of this columns will act as a a measure for each state and will help us see how each of these states have performed through time."
   ]
  },
  {
   "cell_type": "code",
   "execution_count": 79,
   "metadata": {},
   "outputs": [
    {
     "data": {
      "text/html": [
       "<div>\n",
       "<style scoped>\n",
       "    .dataframe tbody tr th:only-of-type {\n",
       "        vertical-align: middle;\n",
       "    }\n",
       "\n",
       "    .dataframe tbody tr th {\n",
       "        vertical-align: top;\n",
       "    }\n",
       "\n",
       "    .dataframe thead th {\n",
       "        text-align: right;\n",
       "    }\n",
       "</style>\n",
       "<table border=\"1\" class=\"dataframe\">\n",
       "  <thead>\n",
       "    <tr style=\"text-align: right;\">\n",
       "      <th></th>\n",
       "      <th>State</th>\n",
       "      <th>County</th>\n",
       "      <th>NO2 Mean</th>\n",
       "      <th>O3 Mean</th>\n",
       "      <th>SO2 Mean</th>\n",
       "      <th>CO Mean</th>\n",
       "      <th>Total Mean</th>\n",
       "    </tr>\n",
       "    <tr>\n",
       "      <th>Date</th>\n",
       "      <th></th>\n",
       "      <th></th>\n",
       "      <th></th>\n",
       "      <th></th>\n",
       "      <th></th>\n",
       "      <th></th>\n",
       "      <th></th>\n",
       "    </tr>\n",
       "  </thead>\n",
       "  <tbody>\n",
       "    <tr>\n",
       "      <th>2000-01-01</th>\n",
       "      <td>Arizona</td>\n",
       "      <td>Maricopa</td>\n",
       "      <td>0.019042</td>\n",
       "      <td>0.022500</td>\n",
       "      <td>0.003000</td>\n",
       "      <td>1.145833</td>\n",
       "      <td>1.190375</td>\n",
       "    </tr>\n",
       "    <tr>\n",
       "      <th>2000-01-01</th>\n",
       "      <td>Arizona</td>\n",
       "      <td>Maricopa</td>\n",
       "      <td>0.019042</td>\n",
       "      <td>0.022500</td>\n",
       "      <td>0.003000</td>\n",
       "      <td>0.878947</td>\n",
       "      <td>0.923489</td>\n",
       "    </tr>\n",
       "    <tr>\n",
       "      <th>2000-01-01</th>\n",
       "      <td>Arizona</td>\n",
       "      <td>Maricopa</td>\n",
       "      <td>0.019042</td>\n",
       "      <td>0.022500</td>\n",
       "      <td>0.002975</td>\n",
       "      <td>1.145833</td>\n",
       "      <td>1.190350</td>\n",
       "    </tr>\n",
       "    <tr>\n",
       "      <th>2000-01-01</th>\n",
       "      <td>Arizona</td>\n",
       "      <td>Maricopa</td>\n",
       "      <td>0.019042</td>\n",
       "      <td>0.022500</td>\n",
       "      <td>0.002975</td>\n",
       "      <td>0.878947</td>\n",
       "      <td>0.923464</td>\n",
       "    </tr>\n",
       "    <tr>\n",
       "      <th>2000-01-02</th>\n",
       "      <td>Arizona</td>\n",
       "      <td>Maricopa</td>\n",
       "      <td>0.022958</td>\n",
       "      <td>0.013375</td>\n",
       "      <td>0.001958</td>\n",
       "      <td>0.850000</td>\n",
       "      <td>0.888292</td>\n",
       "    </tr>\n",
       "  </tbody>\n",
       "</table>\n",
       "</div>"
      ],
      "text/plain": [
       "              State    County  NO2 Mean   O3 Mean  SO2 Mean   CO Mean  \\\n",
       "Date                                                                    \n",
       "2000-01-01  Arizona  Maricopa  0.019042  0.022500  0.003000  1.145833   \n",
       "2000-01-01  Arizona  Maricopa  0.019042  0.022500  0.003000  0.878947   \n",
       "2000-01-01  Arizona  Maricopa  0.019042  0.022500  0.002975  1.145833   \n",
       "2000-01-01  Arizona  Maricopa  0.019042  0.022500  0.002975  0.878947   \n",
       "2000-01-02  Arizona  Maricopa  0.022958  0.013375  0.001958  0.850000   \n",
       "\n",
       "            Total Mean  \n",
       "Date                    \n",
       "2000-01-01    1.190375  \n",
       "2000-01-01    0.923489  \n",
       "2000-01-01    1.190350  \n",
       "2000-01-01    0.923464  \n",
       "2000-01-02    0.888292  "
      ]
     },
     "execution_count": 79,
     "metadata": {},
     "output_type": "execute_result"
    }
   ],
   "source": [
    "df['Total Mean'] = df['NO2 Mean'] + df['SO2 Mean'] + df['CO Mean'] + df['O3 Mean']\n",
    "df.head()"
   ]
  },
  {
   "cell_type": "markdown",
   "metadata": {},
   "source": [
    "### Get individual Dataframe for each of the Gases\n",
    "The goal now is to create individual dataframes for each of the gases, with columns representing each of the states. One would also like to discard the states that have missing value for any of the years.\n",
    "\n",
    "Note that, we the original dataset has 47 states (as computed before). It might be the case, that not all of them have values recorded for all the yeras from 2000 to 2016. We would like to get rid of them."
   ]
  },
  {
   "cell_type": "code",
   "execution_count": 80,
   "metadata": {},
   "outputs": [],
   "source": [
    "def get_df(gas_name):\n",
    "    \"\"\"\n",
    "    \n",
    "    \"\"\"\n",
    "    \n",
    "    global df\n",
    "    \n",
    "    df_year_list = [df.loc[str(i)] for i in range(2000, 2017)]\n",
    "    \n",
    "    # populates dictionary with states as the keys and list of values\n",
    "    dict_of_lists = {state:[] for state in states}\n",
    "    \n",
    "    for df_year in df_year_list:\n",
    "        for state in states:\n",
    "            state_vals = df_year[df_year['State'] == state]\n",
    "            dict_of_lists[state].append(state_vals[gas_name].mean())\n",
    "    \n",
    "    # convert the dictionary to a dataframe\n",
    "    result = pd.DataFrame(dict_of_lists)\n",
    "    \n",
    "    # change the indices so that they reflect years\n",
    "    index_list = [item for item in range(2000, 2017)]\n",
    "    result.index = index_list\n",
    "    \n",
    "    # get only the columns for which one has non-NaN values.\n",
    "    result.dropna(axis = 1, inplace=True)\n",
    "    return result"
   ]
  },
  {
   "cell_type": "code",
   "execution_count": 84,
   "metadata": {},
   "outputs": [],
   "source": [
    "# dataframe for no2\n",
    "no2_df = get_df('NO2 Mean')"
   ]
  },
  {
   "cell_type": "code",
   "execution_count": 85,
   "metadata": {},
   "outputs": [],
   "source": [
    "# dataframe for so2\n",
    "so2_df = get_df('SO2 Mean')"
   ]
  },
  {
   "cell_type": "code",
   "execution_count": 86,
   "metadata": {},
   "outputs": [],
   "source": [
    "# dataframe for co\n",
    "co_df = get_df('CO Mean')"
   ]
  },
  {
   "cell_type": "code",
   "execution_count": 87,
   "metadata": {},
   "outputs": [],
   "source": [
    "# dataframe for o3\n",
    "o3_df = get_df('O3 Mean')"
   ]
  },
  {
   "cell_type": "code",
   "execution_count": 88,
   "metadata": {},
   "outputs": [],
   "source": [
    "# dataframe for 'Total Mean'\n",
    "total_df = get_df('Total Mean')"
   ]
  },
  {
   "cell_type": "markdown",
   "metadata": {},
   "source": [
    "Let us check one of the dataframes to see how it looks:"
   ]
  },
  {
   "cell_type": "code",
   "execution_count": 89,
   "metadata": {},
   "outputs": [
    {
     "data": {
      "text/html": [
       "<div>\n",
       "<style scoped>\n",
       "    .dataframe tbody tr th:only-of-type {\n",
       "        vertical-align: middle;\n",
       "    }\n",
       "\n",
       "    .dataframe tbody tr th {\n",
       "        vertical-align: top;\n",
       "    }\n",
       "\n",
       "    .dataframe thead th {\n",
       "        text-align: right;\n",
       "    }\n",
       "</style>\n",
       "<table border=\"1\" class=\"dataframe\">\n",
       "  <thead>\n",
       "    <tr style=\"text-align: right;\">\n",
       "      <th></th>\n",
       "      <th>Arizona</th>\n",
       "      <th>California</th>\n",
       "      <th>Colorado</th>\n",
       "      <th>District Of Columbia</th>\n",
       "      <th>Florida</th>\n",
       "      <th>Illinois</th>\n",
       "      <th>Indiana</th>\n",
       "      <th>Kansas</th>\n",
       "      <th>Louisiana</th>\n",
       "      <th>New York</th>\n",
       "      <th>North Carolina</th>\n",
       "      <th>Oklahoma</th>\n",
       "      <th>Pennsylvania</th>\n",
       "      <th>Texas</th>\n",
       "    </tr>\n",
       "  </thead>\n",
       "  <tbody>\n",
       "    <tr>\n",
       "      <th>2000</th>\n",
       "      <td>0.798202</td>\n",
       "      <td>0.687464</td>\n",
       "      <td>0.645494</td>\n",
       "      <td>1.224127</td>\n",
       "      <td>0.765760</td>\n",
       "      <td>0.752500</td>\n",
       "      <td>0.925394</td>\n",
       "      <td>0.794784</td>\n",
       "      <td>0.801407</td>\n",
       "      <td>0.514070</td>\n",
       "      <td>0.671734</td>\n",
       "      <td>0.090925</td>\n",
       "      <td>0.348376</td>\n",
       "      <td>0.480331</td>\n",
       "    </tr>\n",
       "    <tr>\n",
       "      <th>2001</th>\n",
       "      <td>0.695511</td>\n",
       "      <td>0.666567</td>\n",
       "      <td>0.672161</td>\n",
       "      <td>1.127486</td>\n",
       "      <td>0.676223</td>\n",
       "      <td>0.640492</td>\n",
       "      <td>0.433128</td>\n",
       "      <td>0.374191</td>\n",
       "      <td>0.869818</td>\n",
       "      <td>0.547200</td>\n",
       "      <td>0.590789</td>\n",
       "      <td>0.076960</td>\n",
       "      <td>0.369254</td>\n",
       "      <td>0.428627</td>\n",
       "    </tr>\n",
       "    <tr>\n",
       "      <th>2002</th>\n",
       "      <td>0.754270</td>\n",
       "      <td>0.646514</td>\n",
       "      <td>0.541882</td>\n",
       "      <td>1.214099</td>\n",
       "      <td>0.506577</td>\n",
       "      <td>0.636477</td>\n",
       "      <td>0.499557</td>\n",
       "      <td>0.430260</td>\n",
       "      <td>0.757456</td>\n",
       "      <td>0.494625</td>\n",
       "      <td>0.484683</td>\n",
       "      <td>0.098953</td>\n",
       "      <td>0.308522</td>\n",
       "      <td>0.385840</td>\n",
       "    </tr>\n",
       "    <tr>\n",
       "      <th>2003</th>\n",
       "      <td>0.679421</td>\n",
       "      <td>0.618316</td>\n",
       "      <td>0.592142</td>\n",
       "      <td>0.946706</td>\n",
       "      <td>0.476274</td>\n",
       "      <td>0.559350</td>\n",
       "      <td>0.490029</td>\n",
       "      <td>0.355004</td>\n",
       "      <td>0.701848</td>\n",
       "      <td>0.581065</td>\n",
       "      <td>0.531398</td>\n",
       "      <td>0.085071</td>\n",
       "      <td>0.310436</td>\n",
       "      <td>0.504747</td>\n",
       "    </tr>\n",
       "    <tr>\n",
       "      <th>2004</th>\n",
       "      <td>0.554335</td>\n",
       "      <td>0.560905</td>\n",
       "      <td>0.657593</td>\n",
       "      <td>0.664519</td>\n",
       "      <td>0.556943</td>\n",
       "      <td>0.621316</td>\n",
       "      <td>0.613716</td>\n",
       "      <td>0.417344</td>\n",
       "      <td>0.603334</td>\n",
       "      <td>0.485550</td>\n",
       "      <td>0.473690</td>\n",
       "      <td>0.054292</td>\n",
       "      <td>0.368931</td>\n",
       "      <td>0.384332</td>\n",
       "    </tr>\n",
       "    <tr>\n",
       "      <th>2005</th>\n",
       "      <td>0.665032</td>\n",
       "      <td>0.500273</td>\n",
       "      <td>0.662426</td>\n",
       "      <td>0.895856</td>\n",
       "      <td>0.600239</td>\n",
       "      <td>0.503868</td>\n",
       "      <td>0.472980</td>\n",
       "      <td>0.423212</td>\n",
       "      <td>0.514256</td>\n",
       "      <td>0.451008</td>\n",
       "      <td>0.564364</td>\n",
       "      <td>0.059417</td>\n",
       "      <td>0.260185</td>\n",
       "      <td>0.357994</td>\n",
       "    </tr>\n",
       "    <tr>\n",
       "      <th>2006</th>\n",
       "      <td>0.603409</td>\n",
       "      <td>0.486094</td>\n",
       "      <td>0.618916</td>\n",
       "      <td>1.163044</td>\n",
       "      <td>0.427287</td>\n",
       "      <td>0.412583</td>\n",
       "      <td>0.704377</td>\n",
       "      <td>0.418019</td>\n",
       "      <td>0.413075</td>\n",
       "      <td>0.367027</td>\n",
       "      <td>0.450918</td>\n",
       "      <td>0.152595</td>\n",
       "      <td>0.276181</td>\n",
       "      <td>0.303200</td>\n",
       "    </tr>\n",
       "    <tr>\n",
       "      <th>2007</th>\n",
       "      <td>0.553691</td>\n",
       "      <td>0.456998</td>\n",
       "      <td>0.596887</td>\n",
       "      <td>1.245813</td>\n",
       "      <td>0.319266</td>\n",
       "      <td>0.366152</td>\n",
       "      <td>0.494955</td>\n",
       "      <td>0.463035</td>\n",
       "      <td>0.421861</td>\n",
       "      <td>0.412721</td>\n",
       "      <td>0.421601</td>\n",
       "      <td>0.241615</td>\n",
       "      <td>0.284100</td>\n",
       "      <td>0.267850</td>\n",
       "    </tr>\n",
       "    <tr>\n",
       "      <th>2008</th>\n",
       "      <td>0.470645</td>\n",
       "      <td>0.431742</td>\n",
       "      <td>0.452051</td>\n",
       "      <td>1.271644</td>\n",
       "      <td>0.257114</td>\n",
       "      <td>0.312789</td>\n",
       "      <td>0.460137</td>\n",
       "      <td>0.445292</td>\n",
       "      <td>0.320464</td>\n",
       "      <td>0.361006</td>\n",
       "      <td>0.364179</td>\n",
       "      <td>0.185803</td>\n",
       "      <td>0.227020</td>\n",
       "      <td>0.260187</td>\n",
       "    </tr>\n",
       "    <tr>\n",
       "      <th>2009</th>\n",
       "      <td>0.466621</td>\n",
       "      <td>0.434052</td>\n",
       "      <td>0.397771</td>\n",
       "      <td>0.912213</td>\n",
       "      <td>0.372236</td>\n",
       "      <td>0.301144</td>\n",
       "      <td>0.271358</td>\n",
       "      <td>0.336629</td>\n",
       "      <td>0.258601</td>\n",
       "      <td>0.281663</td>\n",
       "      <td>0.330452</td>\n",
       "      <td>0.254057</td>\n",
       "      <td>0.274872</td>\n",
       "      <td>0.233453</td>\n",
       "    </tr>\n",
       "    <tr>\n",
       "      <th>2010</th>\n",
       "      <td>0.408035</td>\n",
       "      <td>0.383384</td>\n",
       "      <td>0.405850</td>\n",
       "      <td>0.933106</td>\n",
       "      <td>0.428707</td>\n",
       "      <td>0.388603</td>\n",
       "      <td>0.206066</td>\n",
       "      <td>0.456881</td>\n",
       "      <td>0.286605</td>\n",
       "      <td>0.349065</td>\n",
       "      <td>0.369665</td>\n",
       "      <td>0.254343</td>\n",
       "      <td>0.310210</td>\n",
       "      <td>0.265000</td>\n",
       "    </tr>\n",
       "    <tr>\n",
       "      <th>2011</th>\n",
       "      <td>0.387629</td>\n",
       "      <td>0.399653</td>\n",
       "      <td>0.379762</td>\n",
       "      <td>0.712977</td>\n",
       "      <td>0.467284</td>\n",
       "      <td>0.379686</td>\n",
       "      <td>0.101368</td>\n",
       "      <td>0.490146</td>\n",
       "      <td>0.259645</td>\n",
       "      <td>0.319113</td>\n",
       "      <td>0.378816</td>\n",
       "      <td>0.271505</td>\n",
       "      <td>0.270176</td>\n",
       "      <td>0.237008</td>\n",
       "    </tr>\n",
       "    <tr>\n",
       "      <th>2012</th>\n",
       "      <td>0.387856</td>\n",
       "      <td>0.375469</td>\n",
       "      <td>0.418572</td>\n",
       "      <td>0.638381</td>\n",
       "      <td>0.414831</td>\n",
       "      <td>0.335710</td>\n",
       "      <td>0.447247</td>\n",
       "      <td>0.554373</td>\n",
       "      <td>0.255887</td>\n",
       "      <td>0.388655</td>\n",
       "      <td>0.317326</td>\n",
       "      <td>0.208309</td>\n",
       "      <td>0.260380</td>\n",
       "      <td>0.220559</td>\n",
       "    </tr>\n",
       "    <tr>\n",
       "      <th>2013</th>\n",
       "      <td>0.365061</td>\n",
       "      <td>0.393439</td>\n",
       "      <td>0.351149</td>\n",
       "      <td>0.378432</td>\n",
       "      <td>0.327972</td>\n",
       "      <td>0.327712</td>\n",
       "      <td>0.309183</td>\n",
       "      <td>0.474897</td>\n",
       "      <td>0.237950</td>\n",
       "      <td>0.350030</td>\n",
       "      <td>0.322816</td>\n",
       "      <td>0.209758</td>\n",
       "      <td>0.202843</td>\n",
       "      <td>0.211949</td>\n",
       "    </tr>\n",
       "    <tr>\n",
       "      <th>2014</th>\n",
       "      <td>0.448863</td>\n",
       "      <td>0.382796</td>\n",
       "      <td>0.363579</td>\n",
       "      <td>0.396666</td>\n",
       "      <td>0.488679</td>\n",
       "      <td>0.335580</td>\n",
       "      <td>0.272094</td>\n",
       "      <td>0.302824</td>\n",
       "      <td>0.301779</td>\n",
       "      <td>0.317352</td>\n",
       "      <td>0.304323</td>\n",
       "      <td>0.193185</td>\n",
       "      <td>0.227569</td>\n",
       "      <td>0.213488</td>\n",
       "    </tr>\n",
       "    <tr>\n",
       "      <th>2015</th>\n",
       "      <td>0.397079</td>\n",
       "      <td>0.371410</td>\n",
       "      <td>0.435283</td>\n",
       "      <td>0.314154</td>\n",
       "      <td>0.543955</td>\n",
       "      <td>0.337879</td>\n",
       "      <td>0.289820</td>\n",
       "      <td>0.324035</td>\n",
       "      <td>0.254877</td>\n",
       "      <td>0.303811</td>\n",
       "      <td>0.292976</td>\n",
       "      <td>0.274168</td>\n",
       "      <td>0.209323</td>\n",
       "      <td>0.242044</td>\n",
       "    </tr>\n",
       "    <tr>\n",
       "      <th>2016</th>\n",
       "      <td>0.506634</td>\n",
       "      <td>0.394440</td>\n",
       "      <td>0.497141</td>\n",
       "      <td>0.301591</td>\n",
       "      <td>0.608771</td>\n",
       "      <td>0.345647</td>\n",
       "      <td>0.285532</td>\n",
       "      <td>0.288168</td>\n",
       "      <td>0.273809</td>\n",
       "      <td>0.336514</td>\n",
       "      <td>0.284278</td>\n",
       "      <td>0.312851</td>\n",
       "      <td>0.131374</td>\n",
       "      <td>0.264461</td>\n",
       "    </tr>\n",
       "  </tbody>\n",
       "</table>\n",
       "</div>"
      ],
      "text/plain": [
       "       Arizona  California  Colorado  District Of Columbia   Florida  \\\n",
       "2000  0.798202    0.687464  0.645494              1.224127  0.765760   \n",
       "2001  0.695511    0.666567  0.672161              1.127486  0.676223   \n",
       "2002  0.754270    0.646514  0.541882              1.214099  0.506577   \n",
       "2003  0.679421    0.618316  0.592142              0.946706  0.476274   \n",
       "2004  0.554335    0.560905  0.657593              0.664519  0.556943   \n",
       "2005  0.665032    0.500273  0.662426              0.895856  0.600239   \n",
       "2006  0.603409    0.486094  0.618916              1.163044  0.427287   \n",
       "2007  0.553691    0.456998  0.596887              1.245813  0.319266   \n",
       "2008  0.470645    0.431742  0.452051              1.271644  0.257114   \n",
       "2009  0.466621    0.434052  0.397771              0.912213  0.372236   \n",
       "2010  0.408035    0.383384  0.405850              0.933106  0.428707   \n",
       "2011  0.387629    0.399653  0.379762              0.712977  0.467284   \n",
       "2012  0.387856    0.375469  0.418572              0.638381  0.414831   \n",
       "2013  0.365061    0.393439  0.351149              0.378432  0.327972   \n",
       "2014  0.448863    0.382796  0.363579              0.396666  0.488679   \n",
       "2015  0.397079    0.371410  0.435283              0.314154  0.543955   \n",
       "2016  0.506634    0.394440  0.497141              0.301591  0.608771   \n",
       "\n",
       "      Illinois   Indiana    Kansas  Louisiana  New York  North Carolina  \\\n",
       "2000  0.752500  0.925394  0.794784   0.801407  0.514070        0.671734   \n",
       "2001  0.640492  0.433128  0.374191   0.869818  0.547200        0.590789   \n",
       "2002  0.636477  0.499557  0.430260   0.757456  0.494625        0.484683   \n",
       "2003  0.559350  0.490029  0.355004   0.701848  0.581065        0.531398   \n",
       "2004  0.621316  0.613716  0.417344   0.603334  0.485550        0.473690   \n",
       "2005  0.503868  0.472980  0.423212   0.514256  0.451008        0.564364   \n",
       "2006  0.412583  0.704377  0.418019   0.413075  0.367027        0.450918   \n",
       "2007  0.366152  0.494955  0.463035   0.421861  0.412721        0.421601   \n",
       "2008  0.312789  0.460137  0.445292   0.320464  0.361006        0.364179   \n",
       "2009  0.301144  0.271358  0.336629   0.258601  0.281663        0.330452   \n",
       "2010  0.388603  0.206066  0.456881   0.286605  0.349065        0.369665   \n",
       "2011  0.379686  0.101368  0.490146   0.259645  0.319113        0.378816   \n",
       "2012  0.335710  0.447247  0.554373   0.255887  0.388655        0.317326   \n",
       "2013  0.327712  0.309183  0.474897   0.237950  0.350030        0.322816   \n",
       "2014  0.335580  0.272094  0.302824   0.301779  0.317352        0.304323   \n",
       "2015  0.337879  0.289820  0.324035   0.254877  0.303811        0.292976   \n",
       "2016  0.345647  0.285532  0.288168   0.273809  0.336514        0.284278   \n",
       "\n",
       "      Oklahoma  Pennsylvania     Texas  \n",
       "2000  0.090925      0.348376  0.480331  \n",
       "2001  0.076960      0.369254  0.428627  \n",
       "2002  0.098953      0.308522  0.385840  \n",
       "2003  0.085071      0.310436  0.504747  \n",
       "2004  0.054292      0.368931  0.384332  \n",
       "2005  0.059417      0.260185  0.357994  \n",
       "2006  0.152595      0.276181  0.303200  \n",
       "2007  0.241615      0.284100  0.267850  \n",
       "2008  0.185803      0.227020  0.260187  \n",
       "2009  0.254057      0.274872  0.233453  \n",
       "2010  0.254343      0.310210  0.265000  \n",
       "2011  0.271505      0.270176  0.237008  \n",
       "2012  0.208309      0.260380  0.220559  \n",
       "2013  0.209758      0.202843  0.211949  \n",
       "2014  0.193185      0.227569  0.213488  \n",
       "2015  0.274168      0.209323  0.242044  \n",
       "2016  0.312851      0.131374  0.264461  "
      ]
     },
     "execution_count": 89,
     "metadata": {},
     "output_type": "execute_result"
    }
   ],
   "source": [
    "total_df"
   ]
  },
  {
   "cell_type": "code",
   "execution_count": 90,
   "metadata": {},
   "outputs": [
    {
     "name": "stdout",
     "output_type": "stream",
     "text": [
      "There are 14 states in the datframe corresponding to the total mean.\n"
     ]
    }
   ],
   "source": [
    "print(f'There are {len(total_df.columns)} states in the datframe corresponding to the total mean.')"
   ]
  },
  {
   "cell_type": "markdown",
   "metadata": {},
   "source": [
    "Naturally, one would like to know if all the dataframes have same states."
   ]
  },
  {
   "cell_type": "code",
   "execution_count": 93,
   "metadata": {},
   "outputs": [
    {
     "name": "stdout",
     "output_type": "stream",
     "text": [
      "[ True  True  True  True  True  True  True  True  True  True  True  True\n",
      "  True  True]\n",
      "[ True  True  True  True  True  True  True  True  True  True  True  True\n",
      "  True  True]\n",
      "[ True  True  True  True  True  True  True  True  True  True  True  True\n",
      "  True  True]\n",
      "[ True  True  True  True  True  True  True  True  True  True  True  True\n",
      "  True  True]\n"
     ]
    }
   ],
   "source": [
    "print(total_df.columns == no2_df.columns)\n",
    "print(no2_df.columns == o3_df.columns)\n",
    "print(o3_df.columns == so2_df.columns)\n",
    "print(so2_df.columns == co_df.columns)"
   ]
  },
  {
   "cell_type": "markdown",
   "metadata": {},
   "source": [
    "Therefore, only these 14 states have their data recorded from 2000 to 2016. Rest other states have missing data, hence are discareded in our analysis."
   ]
  },
  {
   "cell_type": "markdown",
   "metadata": {},
   "source": [
    "# Line Plots"
   ]
  },
  {
   "cell_type": "code",
   "execution_count": null,
   "metadata": {},
   "outputs": [],
   "source": []
  }
 ],
 "metadata": {
  "kernelspec": {
   "display_name": "py37-gpu",
   "language": "python",
   "name": "py37-gpu"
  },
  "language_info": {
   "codemirror_mode": {
    "name": "ipython",
    "version": 3
   },
   "file_extension": ".py",
   "mimetype": "text/x-python",
   "name": "python",
   "nbconvert_exporter": "python",
   "pygments_lexer": "ipython3",
   "version": "3.7.1"
  }
 },
 "nbformat": 4,
 "nbformat_minor": 4
}
